{
 "cells": [
  {
   "cell_type": "markdown",
   "metadata": {},
   "source": [
    "# Naložimo paket in podatke"
   ]
  },
  {
   "cell_type": "markdown",
   "metadata": {},
   "source": [
    "Naložimo potrebne pakete.\n",
    "\n",
    "Ker bomo delali z velikimi razpredelnicami, povemo, da naj se vedno izpiše le 10 vrstic.\n",
    "\n",
    "Določimo še stil grafov."
   ]
  },
  {
   "cell_type": "code",
   "execution_count": 137,
   "metadata": {},
   "outputs": [],
   "source": [
    "import pandas as pd\n",
    "from matplotlib import pyplot as plt\n",
    "import datetime\n",
    "\n",
    "pd.options.display.max_rows = 10\n",
    "\n",
    "plt.style.use('ggplot')"
   ]
  },
  {
   "cell_type": "markdown",
   "metadata": {},
   "source": [
    "Naložimo razpredelnice, s katerimi bomo delali."
   ]
  },
  {
   "cell_type": "code",
   "execution_count": 138,
   "metadata": {},
   "outputs": [],
   "source": [
    "recepti = pd.read_csv('recepti.csv', index_col='id')\n",
    "kategorije = pd.read_csv('kategorije.csv', index_col='tag')\n",
    "kategorije_receptov = pd.read_csv('rk.csv')\n",
    "sestavine = pd.read_csv('sestavine.csv')"
   ]
  },
  {
   "cell_type": "markdown",
   "metadata": {},
   "source": [
    "Poglejmo si podatke."
   ]
  },
  {
   "cell_type": "code",
   "execution_count": 139,
   "metadata": {},
   "outputs": [
    {
     "data": {
      "text/html": [
       "<div>\n",
       "<style scoped>\n",
       "    .dataframe tbody tr th:only-of-type {\n",
       "        vertical-align: middle;\n",
       "    }\n",
       "\n",
       "    .dataframe tbody tr th {\n",
       "        vertical-align: top;\n",
       "    }\n",
       "\n",
       "    .dataframe thead th {\n",
       "        text-align: right;\n",
       "    }\n",
       "</style>\n",
       "<table border=\"1\" class=\"dataframe\">\n",
       "  <thead>\n",
       "    <tr style=\"text-align: right;\">\n",
       "      <th></th>\n",
       "      <th>title</th>\n",
       "      <th>info</th>\n",
       "      <th>num_comments</th>\n",
       "      <th>num_votes</th>\n",
       "      <th>rating</th>\n",
       "      <th>time</th>\n",
       "      <th>difficulty</th>\n",
       "      <th>date</th>\n",
       "      <th>calories</th>\n",
       "    </tr>\n",
       "    <tr>\n",
       "      <th>id</th>\n",
       "      <th></th>\n",
       "      <th></th>\n",
       "      <th></th>\n",
       "      <th></th>\n",
       "      <th></th>\n",
       "      <th></th>\n",
       "      <th></th>\n",
       "      <th></th>\n",
       "      <th></th>\n",
       "    </tr>\n",
       "  </thead>\n",
       "  <tbody>\n",
       "    <tr>\n",
       "      <th>1000161205322070</th>\n",
       "      <td>Weihnachtsplätzchen</td>\n",
       "      <td>Coburger Schmätzchen</td>\n",
       "      <td>87</td>\n",
       "      <td>97</td>\n",
       "      <td>4.48</td>\n",
       "      <td>35</td>\n",
       "      <td>0</td>\n",
       "      <td>2008-03-12</td>\n",
       "      <td>6518.0</td>\n",
       "    </tr>\n",
       "    <tr>\n",
       "      <th>1000341205325464</th>\n",
       "      <td>Osterlamm</td>\n",
       "      <td>NaN</td>\n",
       "      <td>57</td>\n",
       "      <td>45</td>\n",
       "      <td>4.23</td>\n",
       "      <td>20</td>\n",
       "      <td>0</td>\n",
       "      <td>2008-03-12</td>\n",
       "      <td>NaN</td>\n",
       "    </tr>\n",
       "    <tr>\n",
       "      <th>1000381205329194</th>\n",
       "      <td>Himbeerquarkspeise auch für Diabetiker</td>\n",
       "      <td>NaN</td>\n",
       "      <td>5</td>\n",
       "      <td>5</td>\n",
       "      <td>3.57</td>\n",
       "      <td>15</td>\n",
       "      <td>0</td>\n",
       "      <td>2008-03-12</td>\n",
       "      <td>NaN</td>\n",
       "    </tr>\n",
       "    <tr>\n",
       "      <th>1000411205330174</th>\n",
       "      <td>Mediterraner Kichererbsensalat</td>\n",
       "      <td>vegetarisches Hauptgericht</td>\n",
       "      <td>70</td>\n",
       "      <td>119</td>\n",
       "      <td>4.50</td>\n",
       "      <td>20</td>\n",
       "      <td>1</td>\n",
       "      <td>2008-03-12</td>\n",
       "      <td>895.0</td>\n",
       "    </tr>\n",
       "    <tr>\n",
       "      <th>1000501205332580</th>\n",
       "      <td>Curry - Rahmsuppe</td>\n",
       "      <td>mit Äpfeln und Schweinefleisch</td>\n",
       "      <td>0</td>\n",
       "      <td>1</td>\n",
       "      <td>2.33</td>\n",
       "      <td>25</td>\n",
       "      <td>1</td>\n",
       "      <td>2008-03-12</td>\n",
       "      <td>NaN</td>\n",
       "    </tr>\n",
       "    <tr>\n",
       "      <th>...</th>\n",
       "      <td>...</td>\n",
       "      <td>...</td>\n",
       "      <td>...</td>\n",
       "      <td>...</td>\n",
       "      <td>...</td>\n",
       "      <td>...</td>\n",
       "      <td>...</td>\n",
       "      <td>...</td>\n",
       "      <td>...</td>\n",
       "    </tr>\n",
       "    <tr>\n",
       "      <th>999811205310977</th>\n",
       "      <td>Couscous - Gemüse - Salat</td>\n",
       "      <td>sommerliche Hauptmahlzeit oder Beilage zu Gegr...</td>\n",
       "      <td>2</td>\n",
       "      <td>0</td>\n",
       "      <td>NaN</td>\n",
       "      <td>30</td>\n",
       "      <td>0</td>\n",
       "      <td>2008-03-12</td>\n",
       "      <td>450.0</td>\n",
       "    </tr>\n",
       "    <tr>\n",
       "      <th>999861205313366</th>\n",
       "      <td>Kürbis - Curry - Kokos - Suppe</td>\n",
       "      <td>NaN</td>\n",
       "      <td>6</td>\n",
       "      <td>7</td>\n",
       "      <td>4.22</td>\n",
       "      <td>15</td>\n",
       "      <td>0</td>\n",
       "      <td>2008-03-12</td>\n",
       "      <td>NaN</td>\n",
       "    </tr>\n",
       "    <tr>\n",
       "      <th>999891205314969</th>\n",
       "      <td>Bratkartoffeln nach mediterraner Art</td>\n",
       "      <td>knusprig und ohne Vorkochen von Kartoffeln</td>\n",
       "      <td>34</td>\n",
       "      <td>49</td>\n",
       "      <td>4.43</td>\n",
       "      <td>25</td>\n",
       "      <td>0</td>\n",
       "      <td>2008-03-12</td>\n",
       "      <td>166.0</td>\n",
       "    </tr>\n",
       "    <tr>\n",
       "      <th>999931205316349</th>\n",
       "      <td>Nudeln mit Apfel - Tomaten - Sauce</td>\n",
       "      <td>leicht scharf</td>\n",
       "      <td>34</td>\n",
       "      <td>46</td>\n",
       "      <td>3.71</td>\n",
       "      <td>10</td>\n",
       "      <td>0</td>\n",
       "      <td>2008-03-12</td>\n",
       "      <td>NaN</td>\n",
       "    </tr>\n",
       "    <tr>\n",
       "      <th>999981205317565</th>\n",
       "      <td>Cherry Tequila</td>\n",
       "      <td>genial einfach</td>\n",
       "      <td>2</td>\n",
       "      <td>5</td>\n",
       "      <td>3.43</td>\n",
       "      <td>1</td>\n",
       "      <td>0</td>\n",
       "      <td>2008-03-12</td>\n",
       "      <td>137.0</td>\n",
       "    </tr>\n",
       "  </tbody>\n",
       "</table>\n",
       "<p>64723 rows × 9 columns</p>\n",
       "</div>"
      ],
      "text/plain": [
       "                                                   title  \\\n",
       "id                                                         \n",
       "1000161205322070                     Weihnachtsplätzchen   \n",
       "1000341205325464                               Osterlamm   \n",
       "1000381205329194  Himbeerquarkspeise auch für Diabetiker   \n",
       "1000411205330174          Mediterraner Kichererbsensalat   \n",
       "1000501205332580                       Curry - Rahmsuppe   \n",
       "...                                                  ...   \n",
       "999811205310977                Couscous - Gemüse - Salat   \n",
       "999861205313366           Kürbis - Curry - Kokos - Suppe   \n",
       "999891205314969     Bratkartoffeln nach mediterraner Art   \n",
       "999931205316349       Nudeln mit Apfel - Tomaten - Sauce   \n",
       "999981205317565                           Cherry Tequila   \n",
       "\n",
       "                                                               info  \\\n",
       "id                                                                    \n",
       "1000161205322070                               Coburger Schmätzchen   \n",
       "1000341205325464                                                NaN   \n",
       "1000381205329194                                                NaN   \n",
       "1000411205330174                         vegetarisches Hauptgericht   \n",
       "1000501205332580                     mit Äpfeln und Schweinefleisch   \n",
       "...                                                             ...   \n",
       "999811205310977   sommerliche Hauptmahlzeit oder Beilage zu Gegr...   \n",
       "999861205313366                                                 NaN   \n",
       "999891205314969          knusprig und ohne Vorkochen von Kartoffeln   \n",
       "999931205316349                                       leicht scharf   \n",
       "999981205317565                                      genial einfach   \n",
       "\n",
       "                  num_comments  num_votes  rating  time  difficulty  \\\n",
       "id                                                                    \n",
       "1000161205322070            87         97    4.48    35           0   \n",
       "1000341205325464            57         45    4.23    20           0   \n",
       "1000381205329194             5          5    3.57    15           0   \n",
       "1000411205330174            70        119    4.50    20           1   \n",
       "1000501205332580             0          1    2.33    25           1   \n",
       "...                        ...        ...     ...   ...         ...   \n",
       "999811205310977              2          0     NaN    30           0   \n",
       "999861205313366              6          7    4.22    15           0   \n",
       "999891205314969             34         49    4.43    25           0   \n",
       "999931205316349             34         46    3.71    10           0   \n",
       "999981205317565              2          5    3.43     1           0   \n",
       "\n",
       "                        date  calories  \n",
       "id                                      \n",
       "1000161205322070  2008-03-12    6518.0  \n",
       "1000341205325464  2008-03-12       NaN  \n",
       "1000381205329194  2008-03-12       NaN  \n",
       "1000411205330174  2008-03-12     895.0  \n",
       "1000501205332580  2008-03-12       NaN  \n",
       "...                      ...       ...  \n",
       "999811205310977   2008-03-12     450.0  \n",
       "999861205313366   2008-03-12       NaN  \n",
       "999891205314969   2008-03-12     166.0  \n",
       "999931205316349   2008-03-12       NaN  \n",
       "999981205317565   2008-03-12     137.0  \n",
       "\n",
       "[64723 rows x 9 columns]"
      ]
     },
     "execution_count": 139,
     "metadata": {},
     "output_type": "execute_result"
    }
   ],
   "source": [
    "recepti"
   ]
  },
  {
   "cell_type": "code",
   "execution_count": 140,
   "metadata": {},
   "outputs": [
    {
     "data": {
      "text/html": [
       "<div>\n",
       "<style scoped>\n",
       "    .dataframe tbody tr th:only-of-type {\n",
       "        vertical-align: middle;\n",
       "    }\n",
       "\n",
       "    .dataframe tbody tr th {\n",
       "        vertical-align: top;\n",
       "    }\n",
       "\n",
       "    .dataframe thead th {\n",
       "        text-align: right;\n",
       "    }\n",
       "</style>\n",
       "<table border=\"1\" class=\"dataframe\">\n",
       "  <thead>\n",
       "    <tr style=\"text-align: right;\">\n",
       "      <th></th>\n",
       "      <th>kat</th>\n",
       "    </tr>\n",
       "    <tr>\n",
       "      <th>tag</th>\n",
       "      <th></th>\n",
       "    </tr>\n",
       "  </thead>\n",
       "  <tbody>\n",
       "    <tr>\n",
       "      <th>10</th>\n",
       "      <td>Cocktail</td>\n",
       "    </tr>\n",
       "    <tr>\n",
       "      <th>11</th>\n",
       "      <td>Getränk</td>\n",
       "    </tr>\n",
       "    <tr>\n",
       "      <th>12</th>\n",
       "      <td>Longdrink</td>\n",
       "    </tr>\n",
       "    <tr>\n",
       "      <th>13</th>\n",
       "      <td>Indien</td>\n",
       "    </tr>\n",
       "    <tr>\n",
       "      <th>14</th>\n",
       "      <td>Asien</td>\n",
       "    </tr>\n",
       "    <tr>\n",
       "      <th>...</th>\n",
       "      <td>...</td>\n",
       "    </tr>\n",
       "    <tr>\n",
       "      <th>7346</th>\n",
       "      <td>INFORM-Empfehlung</td>\n",
       "    </tr>\n",
       "    <tr>\n",
       "      <th>7710</th>\n",
       "      <td>Paleo</td>\n",
       "    </tr>\n",
       "    <tr>\n",
       "      <th>9947</th>\n",
       "      <td>ketogen</td>\n",
       "    </tr>\n",
       "    <tr>\n",
       "      <th>9948</th>\n",
       "      <td>Low Carb</td>\n",
       "    </tr>\n",
       "    <tr>\n",
       "      <th>9949</th>\n",
       "      <td>klare Suppe</td>\n",
       "    </tr>\n",
       "  </tbody>\n",
       "</table>\n",
       "<p>182 rows × 1 columns</p>\n",
       "</div>"
      ],
      "text/plain": [
       "                    kat\n",
       "tag                    \n",
       "10             Cocktail\n",
       "11              Getränk\n",
       "12            Longdrink\n",
       "13               Indien\n",
       "14                Asien\n",
       "...                 ...\n",
       "7346  INFORM-Empfehlung\n",
       "7710              Paleo\n",
       "9947            ketogen\n",
       "9948           Low Carb\n",
       "9949        klare Suppe\n",
       "\n",
       "[182 rows x 1 columns]"
      ]
     },
     "execution_count": 140,
     "metadata": {},
     "output_type": "execute_result"
    }
   ],
   "source": [
    "kategorije"
   ]
  },
  {
   "cell_type": "code",
   "execution_count": 141,
   "metadata": {},
   "outputs": [
    {
     "data": {
      "text/html": [
       "<div>\n",
       "<style scoped>\n",
       "    .dataframe tbody tr th:only-of-type {\n",
       "        vertical-align: middle;\n",
       "    }\n",
       "\n",
       "    .dataframe tbody tr th {\n",
       "        vertical-align: top;\n",
       "    }\n",
       "\n",
       "    .dataframe thead th {\n",
       "        text-align: right;\n",
       "    }\n",
       "</style>\n",
       "<table border=\"1\" class=\"dataframe\">\n",
       "  <thead>\n",
       "    <tr style=\"text-align: right;\">\n",
       "      <th></th>\n",
       "      <th>recept</th>\n",
       "      <th>kategorija</th>\n",
       "    </tr>\n",
       "  </thead>\n",
       "  <tbody>\n",
       "    <tr>\n",
       "      <th>0</th>\n",
       "      <td>1000161205322070</td>\n",
       "      <td>23</td>\n",
       "    </tr>\n",
       "    <tr>\n",
       "      <th>1</th>\n",
       "      <td>1000161205322070</td>\n",
       "      <td>32</td>\n",
       "    </tr>\n",
       "    <tr>\n",
       "      <th>2</th>\n",
       "      <td>1000161205322070</td>\n",
       "      <td>49</td>\n",
       "    </tr>\n",
       "    <tr>\n",
       "      <th>3</th>\n",
       "      <td>1000161205322070</td>\n",
       "      <td>50</td>\n",
       "    </tr>\n",
       "    <tr>\n",
       "      <th>4</th>\n",
       "      <td>1000161205322070</td>\n",
       "      <td>102</td>\n",
       "    </tr>\n",
       "    <tr>\n",
       "      <th>...</th>\n",
       "      <td>...</td>\n",
       "      <td>...</td>\n",
       "    </tr>\n",
       "    <tr>\n",
       "      <th>479568</th>\n",
       "      <td>999981205317565</td>\n",
       "      <td>11</td>\n",
       "    </tr>\n",
       "    <tr>\n",
       "      <th>479569</th>\n",
       "      <td>999981205317565</td>\n",
       "      <td>12</td>\n",
       "    </tr>\n",
       "    <tr>\n",
       "      <th>479570</th>\n",
       "      <td>999981205317565</td>\n",
       "      <td>32</td>\n",
       "    </tr>\n",
       "    <tr>\n",
       "      <th>479571</th>\n",
       "      <td>999981205317565</td>\n",
       "      <td>50</td>\n",
       "    </tr>\n",
       "    <tr>\n",
       "      <th>479572</th>\n",
       "      <td>999981205317565</td>\n",
       "      <td>57</td>\n",
       "    </tr>\n",
       "  </tbody>\n",
       "</table>\n",
       "<p>479573 rows × 2 columns</p>\n",
       "</div>"
      ],
      "text/plain": [
       "                  recept  kategorija\n",
       "0       1000161205322070          23\n",
       "1       1000161205322070          32\n",
       "2       1000161205322070          49\n",
       "3       1000161205322070          50\n",
       "4       1000161205322070         102\n",
       "...                  ...         ...\n",
       "479568   999981205317565          11\n",
       "479569   999981205317565          12\n",
       "479570   999981205317565          32\n",
       "479571   999981205317565          50\n",
       "479572   999981205317565          57\n",
       "\n",
       "[479573 rows x 2 columns]"
      ]
     },
     "execution_count": 141,
     "metadata": {},
     "output_type": "execute_result"
    }
   ],
   "source": [
    "kategorije_receptov"
   ]
  },
  {
   "cell_type": "code",
   "execution_count": 142,
   "metadata": {},
   "outputs": [
    {
     "data": {
      "text/html": [
       "<div>\n",
       "<style scoped>\n",
       "    .dataframe tbody tr th:only-of-type {\n",
       "        vertical-align: middle;\n",
       "    }\n",
       "\n",
       "    .dataframe tbody tr th {\n",
       "        vertical-align: top;\n",
       "    }\n",
       "\n",
       "    .dataframe thead th {\n",
       "        text-align: right;\n",
       "    }\n",
       "</style>\n",
       "<table border=\"1\" class=\"dataframe\">\n",
       "  <thead>\n",
       "    <tr style=\"text-align: right;\">\n",
       "      <th></th>\n",
       "      <th>recept</th>\n",
       "      <th>sestavina</th>\n",
       "    </tr>\n",
       "  </thead>\n",
       "  <tbody>\n",
       "    <tr>\n",
       "      <th>0</th>\n",
       "      <td>1000161205322070</td>\n",
       "      <td>Ei(er)</td>\n",
       "    </tr>\n",
       "    <tr>\n",
       "      <th>1</th>\n",
       "      <td>1000161205322070</td>\n",
       "      <td>Honig oder Apfelgelee</td>\n",
       "    </tr>\n",
       "    <tr>\n",
       "      <th>2</th>\n",
       "      <td>1000161205322070</td>\n",
       "      <td>Kakaopulver</td>\n",
       "    </tr>\n",
       "    <tr>\n",
       "      <th>3</th>\n",
       "      <td>1000161205322070</td>\n",
       "      <td>Lebkuchengewürz</td>\n",
       "    </tr>\n",
       "    <tr>\n",
       "      <th>4</th>\n",
       "      <td>1000161205322070</td>\n",
       "      <td>Mandel(n) oder Nüsse, gehackt</td>\n",
       "    </tr>\n",
       "    <tr>\n",
       "      <th>...</th>\n",
       "      <td>...</td>\n",
       "      <td>...</td>\n",
       "    </tr>\n",
       "    <tr>\n",
       "      <th>645768</th>\n",
       "      <td>999931205316349</td>\n",
       "      <td>Salz und Pfeffer</td>\n",
       "    </tr>\n",
       "    <tr>\n",
       "      <th>645769</th>\n",
       "      <td>999931205316349</td>\n",
       "      <td>Tomatenmark</td>\n",
       "    </tr>\n",
       "    <tr>\n",
       "      <th>645770</th>\n",
       "      <td>999931205316349</td>\n",
       "      <td>Wasser</td>\n",
       "    </tr>\n",
       "    <tr>\n",
       "      <th>645771</th>\n",
       "      <td>999981205317565</td>\n",
       "      <td>Kirschsaft</td>\n",
       "    </tr>\n",
       "    <tr>\n",
       "      <th>645772</th>\n",
       "      <td>999981205317565</td>\n",
       "      <td>Tequila Gold</td>\n",
       "    </tr>\n",
       "  </tbody>\n",
       "</table>\n",
       "<p>645773 rows × 2 columns</p>\n",
       "</div>"
      ],
      "text/plain": [
       "                  recept                      sestavina\n",
       "0       1000161205322070                        Ei(er) \n",
       "1       1000161205322070          Honig oder Apfelgelee\n",
       "2       1000161205322070                   Kakaopulver \n",
       "3       1000161205322070               Lebkuchengewürz \n",
       "4       1000161205322070  Mandel(n) oder Nüsse, gehackt\n",
       "...                  ...                            ...\n",
       "645768   999931205316349              Salz und Pfeffer \n",
       "645769   999931205316349                   Tomatenmark \n",
       "645770   999931205316349                        Wasser \n",
       "645771   999981205317565                    Kirschsaft \n",
       "645772   999981205317565                   Tequila Gold\n",
       "\n",
       "[645773 rows x 2 columns]"
      ]
     },
     "execution_count": 142,
     "metadata": {},
     "output_type": "execute_result"
    }
   ],
   "source": [
    "sestavine"
   ]
  },
  {
   "cell_type": "markdown",
   "metadata": {},
   "source": [
    "# Proučevanje podatkov"
   ]
  },
  {
   "cell_type": "markdown",
   "metadata": {},
   "source": [
    "## Ocena recepta"
   ]
  },
  {
   "cell_type": "markdown",
   "metadata": {},
   "source": [
    "Najprej nas zanima, od česa je odvisna ocena (rating) recepta."
   ]
  },
  {
   "cell_type": "markdown",
   "metadata": {},
   "source": [
    "Oglejmo si deset najbolje ocenjenih receptov skupaj z njihovimi sestavinami in kategorijami."
   ]
  },
  {
   "cell_type": "code",
   "execution_count": 143,
   "metadata": {},
   "outputs": [
    {
     "data": {
      "text/html": [
       "<div>\n",
       "<style scoped>\n",
       "    .dataframe tbody tr th:only-of-type {\n",
       "        vertical-align: middle;\n",
       "    }\n",
       "\n",
       "    .dataframe tbody tr th {\n",
       "        vertical-align: top;\n",
       "    }\n",
       "\n",
       "    .dataframe thead th {\n",
       "        text-align: right;\n",
       "    }\n",
       "</style>\n",
       "<table border=\"1\" class=\"dataframe\">\n",
       "  <thead>\n",
       "    <tr style=\"text-align: right;\">\n",
       "      <th></th>\n",
       "      <th>title</th>\n",
       "      <th>info</th>\n",
       "      <th>num_comments</th>\n",
       "      <th>num_votes</th>\n",
       "      <th>rating</th>\n",
       "      <th>time</th>\n",
       "      <th>difficulty</th>\n",
       "      <th>date</th>\n",
       "      <th>calories</th>\n",
       "      <th>recept</th>\n",
       "      <th>sestavine</th>\n",
       "      <th>kategorije</th>\n",
       "    </tr>\n",
       "  </thead>\n",
       "  <tbody>\n",
       "    <tr>\n",
       "      <th>0</th>\n",
       "      <td>Selbstgemachtes Italienisches Focaccia Brot</td>\n",
       "      <td>Fladenbrot einfach und schnell gemacht</td>\n",
       "      <td>73</td>\n",
       "      <td>124</td>\n",
       "      <td>4.90</td>\n",
       "      <td>25</td>\n",
       "      <td>0</td>\n",
       "      <td>2015-11-04</td>\n",
       "      <td>NaN</td>\n",
       "      <td>2942941446565480</td>\n",
       "      <td>[Basilikumblätter, frischer, zum Garnieren, Bu...</td>\n",
       "      <td>[Backen, einfach, Snack, Brot oder Brötchen, Ü...</td>\n",
       "    </tr>\n",
       "    <tr>\n",
       "      <th>1</th>\n",
       "      <td>Köstliche BBQ Spareribs für Smoker und Backofe...</td>\n",
       "      <td>Ich mache meine Spareribs nun schon sehr lange...</td>\n",
       "      <td>462</td>\n",
       "      <td>576</td>\n",
       "      <td>4.89</td>\n",
       "      <td>60</td>\n",
       "      <td>1</td>\n",
       "      <td>2013-06-26</td>\n",
       "      <td>NaN</td>\n",
       "      <td>2338561372249308</td>\n",
       "      <td>[BBQ-Sauce , Chilipulver , Honig , Ketchup , K...</td>\n",
       "      <td>[Sommer, Hauptspeise, Party, Schwein, Grillen]</td>\n",
       "    </tr>\n",
       "    <tr>\n",
       "      <th>2</th>\n",
       "      <td>Pikanter Dattel-Frischkäse-Dip</td>\n",
       "      <td>Geeignet als Dip oder als Brotaufstrich.</td>\n",
       "      <td>251</td>\n",
       "      <td>522</td>\n",
       "      <td>4.88</td>\n",
       "      <td>5</td>\n",
       "      <td>1</td>\n",
       "      <td>2014-11-23</td>\n",
       "      <td>NaN</td>\n",
       "      <td>2653511416758959</td>\n",
       "      <td>[Currypulver , Frischkäse , Harissa oder schar...</td>\n",
       "      <td>[Frucht, Aufstrich, Käse, Saucen, Dips]</td>\n",
       "    </tr>\n",
       "    <tr>\n",
       "      <th>3</th>\n",
       "      <td>Lothars beste Nürnberger Elisenlebkuchen</td>\n",
       "      <td>weihnachtliches Nachbarschaftsrezept</td>\n",
       "      <td>1190</td>\n",
       "      <td>1423</td>\n",
       "      <td>4.88</td>\n",
       "      <td>45</td>\n",
       "      <td>0</td>\n",
       "      <td>2008-03-22</td>\n",
       "      <td>NaN</td>\n",
       "      <td>1010591206190843</td>\n",
       "      <td>[Ei(er) , Haselnüsse, gemahlen, Honig , Kuvert...</td>\n",
       "      <td>[Backen, einfach, Weihnachten, Kekse]</td>\n",
       "    </tr>\n",
       "    <tr>\n",
       "      <th>4</th>\n",
       "      <td>Schneemoussetorte mit Rhabarber</td>\n",
       "      <td>NaN</td>\n",
       "      <td>131</td>\n",
       "      <td>232</td>\n",
       "      <td>4.87</td>\n",
       "      <td>90</td>\n",
       "      <td>1</td>\n",
       "      <td>2009-11-04</td>\n",
       "      <td>4251.0</td>\n",
       "      <td>1521151257327860</td>\n",
       "      <td>[Backpulver , Butter , Ei(er) , Fett für die F...</td>\n",
       "      <td>[Backen, Vegetarisch, Frühling, Torte]</td>\n",
       "    </tr>\n",
       "    <tr>\n",
       "      <th>5</th>\n",
       "      <td>Die perfekten Hamburgerbrötchen</td>\n",
       "      <td>NaN</td>\n",
       "      <td>158</td>\n",
       "      <td>272</td>\n",
       "      <td>4.87</td>\n",
       "      <td>15</td>\n",
       "      <td>1</td>\n",
       "      <td>2014-12-30</td>\n",
       "      <td>285.0</td>\n",
       "      <td>2642351415194117</td>\n",
       "      <td>[Butter, weich, Ei(er) , Hefe, frisch, Mehl (T...</td>\n",
       "      <td>[Backen, Vegetarisch, Brot oder Brötchen]</td>\n",
       "    </tr>\n",
       "    <tr>\n",
       "      <th>6</th>\n",
       "      <td>Dattelcreme</td>\n",
       "      <td>Orientalisch exotisch</td>\n",
       "      <td>73</td>\n",
       "      <td>152</td>\n",
       "      <td>4.87</td>\n",
       "      <td>15</td>\n",
       "      <td>0</td>\n",
       "      <td>2015-10-01</td>\n",
       "      <td>NaN</td>\n",
       "      <td>2911251443383530</td>\n",
       "      <td>[Currypulver , Frischkäse , Harissapaste , Kno...</td>\n",
       "      <td>[Vegetarisch, einfach, Frucht, Saucen, Dips]</td>\n",
       "    </tr>\n",
       "    <tr>\n",
       "      <th>7</th>\n",
       "      <td>Grießbrei von Großmutter</td>\n",
       "      <td>luftig, locker und lecker</td>\n",
       "      <td>1025</td>\n",
       "      <td>1970</td>\n",
       "      <td>4.87</td>\n",
       "      <td>15</td>\n",
       "      <td>1</td>\n",
       "      <td>2007-12-04</td>\n",
       "      <td>303.0</td>\n",
       "      <td>914031196710118</td>\n",
       "      <td>[Butter , Ei(er) , Milch , Salz , Vanillezucke...</td>\n",
       "      <td>[Vegetarisch, Schnell, einfach, Camping, Stude...</td>\n",
       "    </tr>\n",
       "    <tr>\n",
       "      <th>8</th>\n",
       "      <td>Hamburger und Hot Dog Buns</td>\n",
       "      <td>Für ca. 7 Burgerbrötchen</td>\n",
       "      <td>241</td>\n",
       "      <td>352</td>\n",
       "      <td>4.87</td>\n",
       "      <td>30</td>\n",
       "      <td>0</td>\n",
       "      <td>2015-07-07</td>\n",
       "      <td>2219.0</td>\n",
       "      <td>2841831436245733</td>\n",
       "      <td>[Ei(er) , Frischhefe, 1/2 Würfel, Honig , Milc...</td>\n",
       "      <td>[Backen, Vegetarisch, einfach, Brot oder Brötc...</td>\n",
       "    </tr>\n",
       "    <tr>\n",
       "      <th>9</th>\n",
       "      <td>Rinderfilet an Whiskeyrahmsauce</td>\n",
       "      <td>NaN</td>\n",
       "      <td>236</td>\n",
       "      <td>335</td>\n",
       "      <td>4.87</td>\n",
       "      <td>20</td>\n",
       "      <td>1</td>\n",
       "      <td>2007-03-01</td>\n",
       "      <td>NaN</td>\n",
       "      <td>701261172735942</td>\n",
       "      <td>[Butter , Butter zum Braten, Kalbsfond , Ketch...</td>\n",
       "      <td>[Festlich, Hauptspeise, Rind, Braten]</td>\n",
       "    </tr>\n",
       "  </tbody>\n",
       "</table>\n",
       "</div>"
      ],
      "text/plain": [
       "                                               title  \\\n",
       "0        Selbstgemachtes Italienisches Focaccia Brot   \n",
       "1  Köstliche BBQ Spareribs für Smoker und Backofe...   \n",
       "2                     Pikanter Dattel-Frischkäse-Dip   \n",
       "3           Lothars beste Nürnberger Elisenlebkuchen   \n",
       "4                    Schneemoussetorte mit Rhabarber   \n",
       "5                    Die perfekten Hamburgerbrötchen   \n",
       "6                                        Dattelcreme   \n",
       "7                           Grießbrei von Großmutter   \n",
       "8                         Hamburger und Hot Dog Buns   \n",
       "9                    Rinderfilet an Whiskeyrahmsauce   \n",
       "\n",
       "                                                info  num_comments  num_votes  \\\n",
       "0             Fladenbrot einfach und schnell gemacht            73        124   \n",
       "1  Ich mache meine Spareribs nun schon sehr lange...           462        576   \n",
       "2           Geeignet als Dip oder als Brotaufstrich.           251        522   \n",
       "3               weihnachtliches Nachbarschaftsrezept          1190       1423   \n",
       "4                                                NaN           131        232   \n",
       "5                                                NaN           158        272   \n",
       "6                              Orientalisch exotisch            73        152   \n",
       "7                          luftig, locker und lecker          1025       1970   \n",
       "8                           Für ca. 7 Burgerbrötchen           241        352   \n",
       "9                                                NaN           236        335   \n",
       "\n",
       "   rating  time  difficulty        date  calories            recept  \\\n",
       "0    4.90    25           0  2015-11-04       NaN  2942941446565480   \n",
       "1    4.89    60           1  2013-06-26       NaN  2338561372249308   \n",
       "2    4.88     5           1  2014-11-23       NaN  2653511416758959   \n",
       "3    4.88    45           0  2008-03-22       NaN  1010591206190843   \n",
       "4    4.87    90           1  2009-11-04    4251.0  1521151257327860   \n",
       "5    4.87    15           1  2014-12-30     285.0  2642351415194117   \n",
       "6    4.87    15           0  2015-10-01       NaN  2911251443383530   \n",
       "7    4.87    15           1  2007-12-04     303.0   914031196710118   \n",
       "8    4.87    30           0  2015-07-07    2219.0  2841831436245733   \n",
       "9    4.87    20           1  2007-03-01       NaN   701261172735942   \n",
       "\n",
       "                                           sestavine  \\\n",
       "0  [Basilikumblätter, frischer, zum Garnieren, Bu...   \n",
       "1  [BBQ-Sauce , Chilipulver , Honig , Ketchup , K...   \n",
       "2  [Currypulver , Frischkäse , Harissa oder schar...   \n",
       "3  [Ei(er) , Haselnüsse, gemahlen, Honig , Kuvert...   \n",
       "4  [Backpulver , Butter , Ei(er) , Fett für die F...   \n",
       "5  [Butter, weich, Ei(er) , Hefe, frisch, Mehl (T...   \n",
       "6  [Currypulver , Frischkäse , Harissapaste , Kno...   \n",
       "7  [Butter , Ei(er) , Milch , Salz , Vanillezucke...   \n",
       "8  [Ei(er) , Frischhefe, 1/2 Würfel, Honig , Milc...   \n",
       "9  [Butter , Butter zum Braten, Kalbsfond , Ketch...   \n",
       "\n",
       "                                          kategorije  \n",
       "0  [Backen, einfach, Snack, Brot oder Brötchen, Ü...  \n",
       "1     [Sommer, Hauptspeise, Party, Schwein, Grillen]  \n",
       "2            [Frucht, Aufstrich, Käse, Saucen, Dips]  \n",
       "3              [Backen, einfach, Weihnachten, Kekse]  \n",
       "4             [Backen, Vegetarisch, Frühling, Torte]  \n",
       "5          [Backen, Vegetarisch, Brot oder Brötchen]  \n",
       "6       [Vegetarisch, einfach, Frucht, Saucen, Dips]  \n",
       "7  [Vegetarisch, Schnell, einfach, Camping, Stude...  \n",
       "8  [Backen, Vegetarisch, einfach, Brot oder Brötc...  \n",
       "9              [Festlich, Hauptspeise, Rind, Braten]  "
      ]
     },
     "execution_count": 143,
     "metadata": {},
     "output_type": "execute_result"
    }
   ],
   "source": [
    "zdruzene_sestavine = sestavine.groupby('recept')['sestavina'].apply(list).reset_index(name='sestavine')\n",
    "zdruzene_kategorije = pd.merge(kategorije_receptov, kategorije, left_on='kategorija', right_on='tag').groupby('recept')\n",
    "zdruzene_kategorije = zdruzene_kategorije['kat'].apply(list).reset_index(name='kategorije')\n",
    "m = pd.merge(recepti, zdruzene_sestavine, left_on='id', right_on='recept')\n",
    "m = pd.merge(m, zdruzene_kategorije, on='recept')\n",
    "m.sort_values('rating', ascending=False).reset_index(drop=True).head(10)"
   ]
  },
  {
   "cell_type": "markdown",
   "metadata": {},
   "source": [
    "### Težavnost"
   ]
  },
  {
   "cell_type": "markdown",
   "metadata": {},
   "source": [
    "Domnevamo, da so zahtevnejši recepti slabše ocenjeni od enostavnih, saj neveščim kuharjem pogosto jedi ne uspe pripraviti, kot bi si želeli. Posledično recept slabše ocenijo, saj ne priznajo svoje nesposobnosti."
   ]
  },
  {
   "attachments": {},
   "cell_type": "markdown",
   "metadata": {},
   "source": [
    "Oglejmo si povprečne ocene receptov glede na težavnost. Pri tem smo najenostavnejše recepte označili z 0, najzahtevnejše pa z 2."
   ]
  },
  {
   "cell_type": "code",
   "execution_count": 144,
   "metadata": {},
   "outputs": [
    {
     "data": {
      "text/plain": [
       "difficulty\n",
       "0    3.969098\n",
       "1    4.001866\n",
       "2    3.898764\n",
       "Name: rating, dtype: float64"
      ]
     },
     "execution_count": 144,
     "metadata": {},
     "output_type": "execute_result"
    }
   ],
   "source": [
    "recepti.groupby('difficulty')['rating'].mean()"
   ]
  },
  {
   "attachments": {},
   "cell_type": "markdown",
   "metadata": {},
   "source": [
    "Domneva se je izkazala za napačno. Povprečne ocene receptov posamezne težavnosti so si precej blizu, zato lahko sklepamo, da ocena recepta ni odvisna od težavnosti."
   ]
  },
  {
   "cell_type": "markdown",
   "metadata": {},
   "source": [
    "### Čas priprave"
   ]
  },
  {
   "cell_type": "markdown",
   "metadata": {},
   "source": [
    "Ker je kuharjev čas zelo cenjen, tega ne gre zanemariti. Dober recept ne bo zahteval dolge priprave, če ta ni potrebna. Domnevamo, da so recepti, ki kuharju vzamejo manj časa in gostitelja rešijo prazne mize pred nenapovedanimi obiski, bolje ocenjeni."
   ]
  },
  {
   "attachments": {},
   "cell_type": "markdown",
   "metadata": {},
   "source": [
    "Oglejmo si graf ocene v odvisnosti od časa priprave."
   ]
  },
  {
   "cell_type": "code",
   "execution_count": 145,
   "metadata": {},
   "outputs": [
    {
     "data": {
      "text/plain": [
       "<AxesSubplot: xlabel='time'>"
      ]
     },
     "execution_count": 145,
     "metadata": {},
     "output_type": "execute_result"
    },
    {
     "data": {
      "image/png": "[encoded data removed]",
      "text/plain": [
       "<Figure size 640x480 with 1 Axes>"
      ]
     },
     "metadata": {},
     "output_type": "display_data"
    }
   ],
   "source": [
    "recepti.groupby('time')['rating'].mean().plot()"
   ]
  },
  {
   "attachments": {},
   "cell_type": "markdown",
   "metadata": {},
   "source": [
    "Podatki o časovno potratnih receptih naredijo graf precej nepregleden, zato jih odstranimo. Oglejmo si še ta graf."
   ]
  },
  {
   "cell_type": "code",
   "execution_count": 146,
   "metadata": {},
   "outputs": [
    {
     "data": {
      "text/plain": [
       "<AxesSubplot: xlabel='time'>"
      ]
     },
     "execution_count": 146,
     "metadata": {},
     "output_type": "execute_result"
    },
    {
     "data": {
      "image/png": "[encoded data removed]",
      "text/plain": [
       "<Figure size 640x480 with 1 Axes>"
      ]
     },
     "metadata": {},
     "output_type": "display_data"
    }
   ],
   "source": [
    "recepti[recepti['time'] <= 200].groupby('time')['rating'].mean().plot()"
   ]
  },
  {
   "attachments": {},
   "cell_type": "markdown",
   "metadata": {},
   "source": [
    "Tudi v tem primeru je odvisnost nejasna. Ocena recepta je dokaj konstantna in ni odvisna od časa priprave."
   ]
  },
  {
   "cell_type": "markdown",
   "metadata": {},
   "source": [
    "### Sestavine"
   ]
  },
  {
   "cell_type": "markdown",
   "metadata": {},
   "source": [
    "Nekatere sestavine so preprosto bolj priljubljene od ostalih. Zanima nas, katere sestavine povzročijo večjo priljubljenost jedi."
   ]
  },
  {
   "cell_type": "markdown",
   "metadata": {},
   "source": [
    "Najprej uredimo tabelo _sestavine_. Opazimo, da se ista sestavina v njej pojavlja pod različnimi imeni - sestavine imajo pogosto za vejico zapisanih še nekaj podrobnosti (npr. za kaj jo bomo uporabili, ali naj bo sladkor bel ali rjav ipd.).\n",
    "Teh podatkov tukaj ne želimo vključiti v analizo - olje naj bo le olje in ne olje za pečenje oz. olje za cvrenje, sladkor pa le sladkor in ne beli/rjavi sladkor. Zato dele sestavin za vejico odstranimo. Novo tabelo poimenujemo *splosne_sestavine*."
   ]
  },
  {
   "cell_type": "code",
   "execution_count": 147,
   "metadata": {},
   "outputs": [],
   "source": [
    "def odstrani_del_za_vejico(sestavina: str):\n",
    "    s = sestavina.split(\",\")\n",
    "    return s[0].strip()"
   ]
  },
  {
   "cell_type": "code",
   "execution_count": 148,
   "metadata": {},
   "outputs": [],
   "source": [
    "splosne_sestavine = sestavine.copy()\n",
    "splosne_sestavine['sestavina'] = sestavine['sestavina'].apply(odstrani_del_za_vejico)"
   ]
  },
  {
   "cell_type": "markdown",
   "metadata": {},
   "source": [
    "Nato združimo tabeli *splosne_sestavine* in _recepti_. Ker nas pri tabeli _recepti_ zanima le rating, jo zožimo."
   ]
  },
  {
   "cell_type": "code",
   "execution_count": 149,
   "metadata": {},
   "outputs": [],
   "source": [
    "splosne_sestavine_z_ratingom = pd.merge(splosne_sestavine, recepti['rating'], left_on='recept', right_on='id')"
   ]
  },
  {
   "cell_type": "markdown",
   "metadata": {},
   "source": [
    "Dobimo seznam najbolj priljubljenih sestavin in povprečno oceno receptov s to sestavino. Dodamo še stolpec s številom pojavitev posamezne sestavine v receptih."
   ]
  },
  {
   "cell_type": "code",
   "execution_count": 150,
   "metadata": {},
   "outputs": [
    {
     "data": {
      "text/html": [
       "<div>\n",
       "<style scoped>\n",
       "    .dataframe tbody tr th:only-of-type {\n",
       "        vertical-align: middle;\n",
       "    }\n",
       "\n",
       "    .dataframe tbody tr th {\n",
       "        vertical-align: top;\n",
       "    }\n",
       "\n",
       "    .dataframe thead th {\n",
       "        text-align: right;\n",
       "    }\n",
       "</style>\n",
       "<table border=\"1\" class=\"dataframe\">\n",
       "  <thead>\n",
       "    <tr style=\"text-align: right;\">\n",
       "      <th></th>\n",
       "      <th>rating</th>\n",
       "      <th>število pojavitev</th>\n",
       "    </tr>\n",
       "    <tr>\n",
       "      <th>sestavina</th>\n",
       "      <th></th>\n",
       "      <th></th>\n",
       "    </tr>\n",
       "  </thead>\n",
       "  <tbody>\n",
       "    <tr>\n",
       "      <th>Olivenöl zum Bestreichen der Backform</th>\n",
       "      <td>4.90</td>\n",
       "      <td>1</td>\n",
       "    </tr>\n",
       "    <tr>\n",
       "      <th>Marinade (von dem Rub)</th>\n",
       "      <td>4.89</td>\n",
       "      <td>1</td>\n",
       "    </tr>\n",
       "    <tr>\n",
       "      <th>Rippchen (Loin Ribs)</th>\n",
       "      <td>4.89</td>\n",
       "      <td>1</td>\n",
       "    </tr>\n",
       "    <tr>\n",
       "      <th>Harissa oder scharfer Ajvar</th>\n",
       "      <td>4.88</td>\n",
       "      <td>1</td>\n",
       "    </tr>\n",
       "    <tr>\n",
       "      <th>Zucker und 4-5 EL extra</th>\n",
       "      <td>4.87</td>\n",
       "      <td>1</td>\n",
       "    </tr>\n",
       "    <tr>\n",
       "      <th>...</th>\n",
       "      <td>...</td>\n",
       "      <td>...</td>\n",
       "    </tr>\n",
       "    <tr>\n",
       "      <th>Öl gegen Überkochen</th>\n",
       "      <td>NaN</td>\n",
       "      <td>1</td>\n",
       "    </tr>\n",
       "    <tr>\n",
       "      <th>Öl mit Zitronenaroma</th>\n",
       "      <td>NaN</td>\n",
       "      <td>1</td>\n",
       "    </tr>\n",
       "    <tr>\n",
       "      <th>Öl oder Fett für den Fonduetopf</th>\n",
       "      <td>NaN</td>\n",
       "      <td>1</td>\n",
       "    </tr>\n",
       "    <tr>\n",
       "      <th>Öl oder Nierentalg in nussgroßen Stückchen</th>\n",
       "      <td>NaN</td>\n",
       "      <td>1</td>\n",
       "    </tr>\n",
       "    <tr>\n",
       "      <th>Öl zum Braten oder Fett</th>\n",
       "      <td>NaN</td>\n",
       "      <td>1</td>\n",
       "    </tr>\n",
       "  </tbody>\n",
       "</table>\n",
       "<p>35957 rows × 2 columns</p>\n",
       "</div>"
      ],
      "text/plain": [
       "                                            rating  število pojavitev\n",
       "sestavina                                                            \n",
       "Olivenöl zum Bestreichen der Backform         4.90                  1\n",
       "Marinade (von dem Rub)                        4.89                  1\n",
       "Rippchen (Loin Ribs)                          4.89                  1\n",
       "Harissa oder scharfer Ajvar                   4.88                  1\n",
       "Zucker und 4-5 EL extra                       4.87                  1\n",
       "...                                            ...                ...\n",
       "Öl gegen Überkochen                            NaN                  1\n",
       "Öl mit Zitronenaroma                           NaN                  1\n",
       "Öl oder Fett für den Fonduetopf                NaN                  1\n",
       "Öl oder Nierentalg in nussgroßen Stückchen     NaN                  1\n",
       "Öl zum Braten oder Fett                        NaN                  1\n",
       "\n",
       "[35957 rows x 2 columns]"
      ]
     },
     "execution_count": 150,
     "metadata": {},
     "output_type": "execute_result"
    }
   ],
   "source": [
    "a = splosne_sestavine_z_ratingom.groupby('sestavina')\n",
    "a1 = a['rating'].mean().rename('rating')\n",
    "a2 = a.size().rename('število pojavitev')\n",
    "rating_sestavine = pd.merge(a1, a2, on='sestavina').sort_values(by='rating', ascending=False)\n",
    "rating_sestavine"
   ]
  },
  {
   "cell_type": "markdown",
   "metadata": {},
   "source": [
    "Opazimo, da veliko sestavin nastopa le v enem (sicer dobro ocenjenem) receptu. Ker ne želimo zaključkov o priljubljenosti sestavine delati le na podlagi majhnega števila receptov, iz tabele odstranimo vrstice s sestavinami, ki se pojavljajo v manj kot desetih receptih."
   ]
  },
  {
   "cell_type": "code",
   "execution_count": 151,
   "metadata": {},
   "outputs": [
    {
     "data": {
      "text/html": [
       "<div>\n",
       "<style scoped>\n",
       "    .dataframe tbody tr th:only-of-type {\n",
       "        vertical-align: middle;\n",
       "    }\n",
       "\n",
       "    .dataframe tbody tr th {\n",
       "        vertical-align: top;\n",
       "    }\n",
       "\n",
       "    .dataframe thead th {\n",
       "        text-align: right;\n",
       "    }\n",
       "</style>\n",
       "<table border=\"1\" class=\"dataframe\">\n",
       "  <thead>\n",
       "    <tr style=\"text-align: right;\">\n",
       "      <th></th>\n",
       "      <th>rating</th>\n",
       "      <th>število pojavitev</th>\n",
       "    </tr>\n",
       "    <tr>\n",
       "      <th>sestavina</th>\n",
       "      <th></th>\n",
       "      <th></th>\n",
       "    </tr>\n",
       "  </thead>\n",
       "  <tbody>\n",
       "    <tr>\n",
       "      <th>Cremepulver (Paradiescreme Vanille)</th>\n",
       "      <td>4.542727</td>\n",
       "      <td>11</td>\n",
       "    </tr>\n",
       "    <tr>\n",
       "      <th>Roggenmehl Type 1150</th>\n",
       "      <td>4.513548</td>\n",
       "      <td>31</td>\n",
       "    </tr>\n",
       "    <tr>\n",
       "      <th>Backmalz</th>\n",
       "      <td>4.489630</td>\n",
       "      <td>54</td>\n",
       "    </tr>\n",
       "    <tr>\n",
       "      <th>Konfekt (Toffifee)</th>\n",
       "      <td>4.489091</td>\n",
       "      <td>12</td>\n",
       "    </tr>\n",
       "    <tr>\n",
       "      <th>Mehlmischung</th>\n",
       "      <td>4.478182</td>\n",
       "      <td>12</td>\n",
       "    </tr>\n",
       "    <tr>\n",
       "      <th>...</th>\n",
       "      <td>...</td>\n",
       "      <td>...</td>\n",
       "    </tr>\n",
       "    <tr>\n",
       "      <th>Curaçao</th>\n",
       "      <td>3.228889</td>\n",
       "      <td>23</td>\n",
       "    </tr>\n",
       "    <tr>\n",
       "      <th>Süßstoff (Diabetikersüße)</th>\n",
       "      <td>3.207273</td>\n",
       "      <td>14</td>\n",
       "    </tr>\n",
       "    <tr>\n",
       "      <th>Fasan(e)</th>\n",
       "      <td>3.204118</td>\n",
       "      <td>44</td>\n",
       "    </tr>\n",
       "    <tr>\n",
       "      <th>Reiswein (Mirin)</th>\n",
       "      <td>3.165556</td>\n",
       "      <td>11</td>\n",
       "    </tr>\n",
       "    <tr>\n",
       "      <th>Pilze (Shiitakepilze)</th>\n",
       "      <td>3.025556</td>\n",
       "      <td>11</td>\n",
       "    </tr>\n",
       "  </tbody>\n",
       "</table>\n",
       "<p>2035 rows × 2 columns</p>\n",
       "</div>"
      ],
      "text/plain": [
       "                                       rating  število pojavitev\n",
       "sestavina                                                       \n",
       "Cremepulver (Paradiescreme Vanille)  4.542727                 11\n",
       "Roggenmehl Type 1150                 4.513548                 31\n",
       "Backmalz                             4.489630                 54\n",
       "Konfekt (Toffifee)                   4.489091                 12\n",
       "Mehlmischung                         4.478182                 12\n",
       "...                                       ...                ...\n",
       "Curaçao                              3.228889                 23\n",
       "Süßstoff (Diabetikersüße)            3.207273                 14\n",
       "Fasan(e)                             3.204118                 44\n",
       "Reiswein (Mirin)                     3.165556                 11\n",
       "Pilze (Shiitakepilze)                3.025556                 11\n",
       "\n",
       "[2035 rows x 2 columns]"
      ]
     },
     "execution_count": 151,
     "metadata": {},
     "output_type": "execute_result"
    }
   ],
   "source": [
    "rating_sestavine[rating_sestavine['število pojavitev'] >= 10]"
   ]
  },
  {
   "cell_type": "markdown",
   "metadata": {},
   "source": [
    "### Kalorična vrednost"
   ]
  },
  {
   "cell_type": "markdown",
   "metadata": {},
   "source": [
    "Še tako nepriljubljene sestavine lahko izboljšamo z dobro mero olja ali sladkorja. To pa seveda poviša kalorično vrednost jedi. Domnevamo, da so jedi z visoko kalorično vrednostjo okusnejše in zato bolje ocenjene."
   ]
  },
  {
   "cell_type": "markdown",
   "metadata": {},
   "source": [
    "Podatke o kaloričnih vrednostih zaokrožimo na stotice, da bo graf bolj pregleden."
   ]
  },
  {
   "cell_type": "code",
   "execution_count": 152,
   "metadata": {},
   "outputs": [
    {
     "data": {
      "text/plain": [
       "<AxesSubplot: xlabel='calories'>"
      ]
     },
     "execution_count": 152,
     "metadata": {},
     "output_type": "execute_result"
    },
    {
     "data": {
      "image/png": "[encoded data removed]",
      "text/plain": [
       "<Figure size 640x480 with 1 Axes>"
      ]
     },
     "metadata": {},
     "output_type": "display_data"
    }
   ],
   "source": [
    "recepti_kalorije = recepti.copy()\n",
    "recepti_kalorije['calories'] = (recepti_kalorije['calories'] / 100).round() * 100\n",
    "recepti_kalorije.groupby('calories')['rating'].mean(numeric_only=True).plot()"
   ]
  },
  {
   "attachments": {},
   "cell_type": "markdown",
   "metadata": {},
   "source": [
    "Pri nižjih kaloričnih vrednosti ocena narašča s kalorijami, nato pa ne več. Pri vsem je pač treba imeti pravo mero in ne gre pretiravati."
   ]
  },
  {
   "cell_type": "markdown",
   "metadata": {},
   "source": [
    "## Čas priprave"
   ]
  },
  {
   "cell_type": "markdown",
   "metadata": {},
   "source": [
    "### Zahtevnost"
   ]
  },
  {
   "cell_type": "markdown",
   "metadata": {},
   "source": [
    "Zahtevni recepti najverjetneje zahtevajo daljšo pripravo. Preverimo."
   ]
  },
  {
   "cell_type": "code",
   "execution_count": 153,
   "metadata": {},
   "outputs": [
    {
     "data": {
      "text/plain": [
       "<AxesSubplot: xlabel='difficulty'>"
      ]
     },
     "execution_count": 153,
     "metadata": {},
     "output_type": "execute_result"
    },
    {
     "data": {
      "image/png": "[encoded data removed]",
      "text/plain": [
       "<Figure size 640x480 with 1 Axes>"
      ]
     },
     "metadata": {},
     "output_type": "display_data"
    }
   ],
   "source": [
    "recepti.groupby('difficulty')['time'].mean().plot.bar(color='navy')"
   ]
  },
  {
   "attachments": {},
   "cell_type": "markdown",
   "metadata": {},
   "source": [
    "Ta domneva se je izkazala za resnično."
   ]
  },
  {
   "cell_type": "markdown",
   "metadata": {},
   "source": [
    "## Število ocen in komentarjev"
   ]
  },
  {
   "cell_type": "markdown",
   "metadata": {},
   "source": [
    "Zanima nas, s čim je povezano število ocen in komentarjev ter kakšna je odvisnost med tema številoma."
   ]
  },
  {
   "cell_type": "markdown",
   "metadata": {},
   "source": [
    "### Ocena recepta"
   ]
  },
  {
   "attachments": {},
   "cell_type": "markdown",
   "metadata": {},
   "source": [
    "Ker so kuharji dobri po duši in raje pohvalijo, kot pa se nad receptom zgražajo, pričakujemo, da bodo bolje ocenjeni recepti tudi večkrat ocenjeni in komentirani. Pričakujemo tudi, da bodo imeli recepti več ocen kot komentarjev, saj ocenjevanje recepta traja manj časa kot komentiranje in zahteva manj miselnega napora, zato se ga zaposleni in utrujeni kuharji pogosteje poslužujejo. Preverimo."
   ]
  },
  {
   "cell_type": "code",
   "execution_count": 154,
   "metadata": {},
   "outputs": [
    {
     "data": {
      "text/plain": [
       "<matplotlib.collections.PathCollection at 0x1bd9f2c7ca0>"
      ]
     },
     "execution_count": 154,
     "metadata": {},
     "output_type": "execute_result"
    },
    {
     "data": {
      "image/png": "[encoded data removed]",
      "text/plain": [
       "<Figure size 640x480 with 1 Axes>"
      ]
     },
     "metadata": {},
     "output_type": "display_data"
    }
   ],
   "source": [
    "plt.scatter(x=recepti['rating'],y=recepti['num_votes'], alpha=0.3, color='goldenrod')\n",
    "plt.scatter(x=recepti['rating'],y=recepti['num_comments'], alpha=0.3, color='green')"
   ]
  },
  {
   "cell_type": "markdown",
   "metadata": {},
   "source": [
    "Zgornji graf je precej nepregleden. Izrišimo še graf povprečnega števila glasov in komentarjev glede na oceno recepta, zaokroženo na eno decimalno mesto."
   ]
  },
  {
   "cell_type": "code",
   "execution_count": 155,
   "metadata": {},
   "outputs": [
    {
     "data": {
      "text/plain": [
       "<AxesSubplot: xlabel='rating'>"
      ]
     },
     "execution_count": 155,
     "metadata": {},
     "output_type": "execute_result"
    },
    {
     "data": {
      "image/png": "[encoded data removed]",
      "text/plain": [
       "<Figure size 640x480 with 1 Axes>"
      ]
     },
     "metadata": {},
     "output_type": "display_data"
    }
   ],
   "source": [
    "recepti_z_zaokrozenim_ratingom = recepti.copy()\n",
    "recepti_z_zaokrozenim_ratingom['rating'] = recepti_z_zaokrozenim_ratingom.rating.round(1)\n",
    "recepti_z_zaokrozenim_ratingom = recepti_z_zaokrozenim_ratingom.groupby('rating')[['num_votes', 'num_comments']]\n",
    "recepti_z_zaokrozenim_ratingom.mean().plot(color=['goldenrod', 'green'])"
   ]
  },
  {
   "cell_type": "markdown",
   "metadata": {},
   "source": [
    "Na tem grafu je odvisnost bolje vidna.\n",
    "\n",
    "Začetna domneva je sicer resnična, vendar za to najbrž niso krivi dobrodušni kuharji, ampak algoritem, ki iskalcu recepta najprej ponudi boljše (tj. bolje ocenjene) recepte. Prav tako so ti večkrat preizkušeni, saj se kuharji prej lotijo dobro ocenjene jedi od tiste, ki je ocenjena slabše. Posledično so zato dobri recepti večkrat ocenjeni in komentirani."
   ]
  },
  {
   "cell_type": "markdown",
   "metadata": {},
   "source": [
    "### Zahtevnost"
   ]
  },
  {
   "cell_type": "markdown",
   "metadata": {},
   "source": [
    "Pri zahtevnejših receptih imajo kuharji več vprašanj za avtorja, zato imajo zahtevni recepti domnevno več komentarjev."
   ]
  },
  {
   "cell_type": "code",
   "execution_count": 156,
   "metadata": {},
   "outputs": [
    {
     "data": {
      "text/plain": [
       "<AxesSubplot: xlabel='difficulty'>"
      ]
     },
     "execution_count": 156,
     "metadata": {},
     "output_type": "execute_result"
    },
    {
     "data": {
      "image/png": "[encoded data removed]",
      "text/plain": [
       "<Figure size 640x480 with 1 Axes>"
      ]
     },
     "metadata": {},
     "output_type": "display_data"
    }
   ],
   "source": [
    "recepti.groupby('difficulty')['num_comments'].mean().plot.bar(color='yellowgreen')"
   ]
  },
  {
   "attachments": {},
   "cell_type": "markdown",
   "metadata": {},
   "source": [
    "Domneva se je izkazala za napačno. Kljub temu da je recept zahteven, je lahko postopek natančno opisan in zato komentarji z vprašanji niso potrebni. Če si ogledamo komentarje, lahko ugotovimo tudi, da se kuharji v komentarjih pogosto zahvaljujejo za odličen recept in ne le sprašujejo, kar pojasni ugotovljeno odvisnost."
   ]
  },
  {
   "cell_type": "markdown",
   "metadata": {},
   "source": [
    "### Čas objave"
   ]
  },
  {
   "cell_type": "markdown",
   "metadata": {},
   "source": [
    "Recepti, ki so objavljeni že dalj časa, imajo več ocen in komentarjev."
   ]
  },
  {
   "cell_type": "code",
   "execution_count": 157,
   "metadata": {},
   "outputs": [
    {
     "data": {
      "text/plain": [
       "<AxesSubplot: xlabel='date'>"
      ]
     },
     "execution_count": 157,
     "metadata": {},
     "output_type": "execute_result"
    },
    {
     "data": {
      "image/png": "[encoded data removed]",
      "text/plain": [
       "<Figure size 640x480 with 1 Axes>"
      ]
     },
     "metadata": {},
     "output_type": "display_data"
    }
   ],
   "source": [
    "def leto(datum):\n",
    "    datum = datetime.date.fromisoformat(datum).year\n",
    "    return datum\n",
    "\n",
    "recepti_po_letih = recepti.copy()[['date', 'num_votes', 'num_comments']].sort_values('date')\n",
    "leta = recepti_po_letih['date'].apply(leto)\n",
    "recepti_po_letih['date'] = leta\n",
    "recepti_po_letih.groupby('date').mean().plot(color=['goldenrod', 'green'])"
   ]
  },
  {
   "attachments": {},
   "cell_type": "markdown",
   "metadata": {},
   "source": [
    "Izrisan graf potrjuje postavljeno hipotezo."
   ]
  },
  {
   "cell_type": "markdown",
   "metadata": {},
   "source": [
    "### Odvisnost med številom ocen in komentarjev"
   ]
  },
  {
   "cell_type": "markdown",
   "metadata": {},
   "source": [
    "Izgleda, da je zveza med številom ocen in komentarjev linearna. Izrišimo še ta graf."
   ]
  },
  {
   "cell_type": "code",
   "execution_count": 158,
   "metadata": {},
   "outputs": [
    {
     "data": {
      "text/plain": [
       "<AxesSubplot: xlabel='num_votes', ylabel='num_comments'>"
      ]
     },
     "execution_count": 158,
     "metadata": {},
     "output_type": "execute_result"
    },
    {
     "data": {
      "image/png": "[encoded data removed]",
      "text/plain": [
       "<Figure size 640x480 with 1 Axes>"
      ]
     },
     "metadata": {},
     "output_type": "display_data"
    }
   ],
   "source": [
    "recepti.plot.scatter(x='num_votes', y='num_comments')"
   ]
  },
  {
   "attachments": {},
   "cell_type": "markdown",
   "metadata": {},
   "source": [
    "Točke se večinoma nahajajo v bližini premice, torej bi odvisnost lahko bila linearna. "
   ]
  },
  {
   "cell_type": "markdown",
   "metadata": {},
   "source": [
    "## Kategorije"
   ]
  },
  {
   "attachments": {},
   "cell_type": "markdown",
   "metadata": {},
   "source": [
    "Najprej si oglejmo najbolj priljubljene kategorije. Priljubljenost kategorije določamo glede na povprečno oceno recepta v tej kategoriji."
   ]
  },
  {
   "cell_type": "code",
   "execution_count": 159,
   "metadata": {},
   "outputs": [
    {
     "data": {
      "text/html": [
       "<div>\n",
       "<style scoped>\n",
       "    .dataframe tbody tr th:only-of-type {\n",
       "        vertical-align: middle;\n",
       "    }\n",
       "\n",
       "    .dataframe tbody tr th {\n",
       "        vertical-align: top;\n",
       "    }\n",
       "\n",
       "    .dataframe thead th {\n",
       "        text-align: right;\n",
       "    }\n",
       "</style>\n",
       "<table border=\"1\" class=\"dataframe\">\n",
       "  <thead>\n",
       "    <tr style=\"text-align: right;\">\n",
       "      <th></th>\n",
       "      <th>kat</th>\n",
       "      <th>rating</th>\n",
       "    </tr>\n",
       "  </thead>\n",
       "  <tbody>\n",
       "    <tr>\n",
       "      <th>0</th>\n",
       "      <td>Essig</td>\n",
       "      <td>4.425660</td>\n",
       "    </tr>\n",
       "    <tr>\n",
       "      <th>1</th>\n",
       "      <td>gewürze</td>\n",
       "      <td>4.425660</td>\n",
       "    </tr>\n",
       "    <tr>\n",
       "      <th>2</th>\n",
       "      <td>Pasten</td>\n",
       "      <td>4.425660</td>\n",
       "    </tr>\n",
       "    <tr>\n",
       "      <th>3</th>\n",
       "      <td>öl</td>\n",
       "      <td>4.425660</td>\n",
       "    </tr>\n",
       "    <tr>\n",
       "      <th>4</th>\n",
       "      <td>INFORM-Empfehlung</td>\n",
       "      <td>4.322647</td>\n",
       "    </tr>\n",
       "    <tr>\n",
       "      <th>5</th>\n",
       "      <td>Likör</td>\n",
       "      <td>4.273911</td>\n",
       "    </tr>\n",
       "    <tr>\n",
       "      <th>6</th>\n",
       "      <td>ketogen</td>\n",
       "      <td>4.232668</td>\n",
       "    </tr>\n",
       "    <tr>\n",
       "      <th>7</th>\n",
       "      <td>Torte</td>\n",
       "      <td>4.226179</td>\n",
       "    </tr>\n",
       "    <tr>\n",
       "      <th>8</th>\n",
       "      <td>Brot oder Brötchen</td>\n",
       "      <td>4.223463</td>\n",
       "    </tr>\n",
       "    <tr>\n",
       "      <th>9</th>\n",
       "      <td>Low Carb</td>\n",
       "      <td>4.223333</td>\n",
       "    </tr>\n",
       "  </tbody>\n",
       "</table>\n",
       "</div>"
      ],
      "text/plain": [
       "                  kat    rating\n",
       "0               Essig  4.425660\n",
       "1             gewürze  4.425660\n",
       "2              Pasten  4.425660\n",
       "3                  öl  4.425660\n",
       "4   INFORM-Empfehlung  4.322647\n",
       "5               Likör  4.273911\n",
       "6             ketogen  4.232668\n",
       "7               Torte  4.226179\n",
       "8  Brot oder Brötchen  4.223463\n",
       "9            Low Carb  4.223333"
      ]
     },
     "execution_count": 159,
     "metadata": {},
     "output_type": "execute_result"
    }
   ],
   "source": [
    "rating_kategorij = pd.merge(recepti, kategorije_receptov, left_on='id', right_on='recept').groupby('kategorija')['rating'].mean()\n",
    "rating_kategorij_z_imeni = pd.merge(rating_kategorij, kategorije, left_on='kategorija', right_on='tag')[['kat', 'rating']]\n",
    "rating_kategorij_z_imeni.sort_values('rating', ascending=False).reset_index(drop=True).head(10)"
   ]
  },
  {
   "cell_type": "markdown",
   "metadata": {},
   "source": [
    "Ali bi lahko zgolj na podlagi sestavin določili, v katere kategorije spada recept?\n",
    "\n",
    "Na vprašanje poskusimo odgovoriti s pomočjo naivnega Bayesovega klasifikatorja."
   ]
  },
  {
   "cell_type": "markdown",
   "metadata": {},
   "source": [
    "Najprej določimo, kolikokrat se posamezna sestavina pojavi med recepti in kolikšna je verjetnost, da ima naključno izbrani recept med navedenimi sestavinami to sestavino. Še prej tabelo s podatki o kategorijah preoblikujemo v bolj razumljivo obliko (namesto enoličnega idja kategorije zapišemo njeno ime)."
   ]
  },
  {
   "cell_type": "code",
   "execution_count": 160,
   "metadata": {},
   "outputs": [],
   "source": [
    "kategorije_z_imeni = pd.merge(kategorije_receptov, kategorije, left_on='kategorija', right_on='tag')[['recept', 'kat']]\n",
    "pojavitve_kategorij = kategorije_z_imeni.groupby('kat').size()\n",
    "verjetnosti_kategorij = pojavitve_kategorij / len(recepti)"
   ]
  },
  {
   "cell_type": "markdown",
   "metadata": {},
   "source": [
    "Ker imajo navedene sestavine v receptu pogosto za vejico zapisanih še nekaj podrobnosti (npr. za kaj bomo to sestavino potrebovali, ali naj bo sladkor bel ali rjav ipd.), ki jih ne želimo analizirati, dele sestavin za vejico odstranimo.\n",
    "\n",
    "To smo že naredili pri analiziranju priljubljenosti sestavin, ustrezno tabelo pa smo poimenovali *splosne_sestavine*."
   ]
  },
  {
   "cell_type": "code",
   "execution_count": 161,
   "metadata": {},
   "outputs": [
    {
     "data": {
      "text/html": [
       "<div>\n",
       "<style scoped>\n",
       "    .dataframe tbody tr th:only-of-type {\n",
       "        vertical-align: middle;\n",
       "    }\n",
       "\n",
       "    .dataframe tbody tr th {\n",
       "        vertical-align: top;\n",
       "    }\n",
       "\n",
       "    .dataframe thead th {\n",
       "        text-align: right;\n",
       "    }\n",
       "</style>\n",
       "<table border=\"1\" class=\"dataframe\">\n",
       "  <thead>\n",
       "    <tr style=\"text-align: right;\">\n",
       "      <th>kat</th>\n",
       "      <th>Afrika</th>\n",
       "      <th>Amerika</th>\n",
       "      <th>Asien</th>\n",
       "      <th>Auflauf</th>\n",
       "      <th>Aufstrich</th>\n",
       "      <th>Australien</th>\n",
       "      <th>Babynahrung</th>\n",
       "      <th>Backen</th>\n",
       "      <th>Backen oder Süßspeise</th>\n",
       "      <th>Basisrezepte</th>\n",
       "      <th>...</th>\n",
       "      <th>marinieren</th>\n",
       "      <th>neu</th>\n",
       "      <th>raffiniert oder preiswert</th>\n",
       "      <th>spezial</th>\n",
       "      <th>tee</th>\n",
       "      <th>warm</th>\n",
       "      <th>Ägypten</th>\n",
       "      <th>Österreich</th>\n",
       "      <th>Überbacken</th>\n",
       "      <th>öl</th>\n",
       "    </tr>\n",
       "    <tr>\n",
       "      <th>sestavina</th>\n",
       "      <th></th>\n",
       "      <th></th>\n",
       "      <th></th>\n",
       "      <th></th>\n",
       "      <th></th>\n",
       "      <th></th>\n",
       "      <th></th>\n",
       "      <th></th>\n",
       "      <th></th>\n",
       "      <th></th>\n",
       "      <th></th>\n",
       "      <th></th>\n",
       "      <th></th>\n",
       "      <th></th>\n",
       "      <th></th>\n",
       "      <th></th>\n",
       "      <th></th>\n",
       "      <th></th>\n",
       "      <th></th>\n",
       "      <th></th>\n",
       "      <th></th>\n",
       "    </tr>\n",
       "  </thead>\n",
       "  <tbody>\n",
       "    <tr>\n",
       "      <th>8 Kräuter</th>\n",
       "      <td>0.000015</td>\n",
       "      <td>0.000015</td>\n",
       "      <td>0.000015</td>\n",
       "      <td>0.000466</td>\n",
       "      <td>0.000015</td>\n",
       "      <td>0.000015</td>\n",
       "      <td>0.000015</td>\n",
       "      <td>0.000015</td>\n",
       "      <td>0.000015</td>\n",
       "      <td>0.000015</td>\n",
       "      <td>...</td>\n",
       "      <td>0.000887</td>\n",
       "      <td>0.000015</td>\n",
       "      <td>0.000297</td>\n",
       "      <td>0.000015</td>\n",
       "      <td>0.000015</td>\n",
       "      <td>0.000015</td>\n",
       "      <td>0.000015</td>\n",
       "      <td>0.000015</td>\n",
       "      <td>0.000622</td>\n",
       "      <td>0.000015</td>\n",
       "    </tr>\n",
       "    <tr>\n",
       "      <th>Aal(e)</th>\n",
       "      <td>0.000015</td>\n",
       "      <td>0.000015</td>\n",
       "      <td>0.000229</td>\n",
       "      <td>0.000015</td>\n",
       "      <td>0.000015</td>\n",
       "      <td>0.000015</td>\n",
       "      <td>0.000015</td>\n",
       "      <td>0.000015</td>\n",
       "      <td>0.000015</td>\n",
       "      <td>0.000015</td>\n",
       "      <td>...</td>\n",
       "      <td>0.000015</td>\n",
       "      <td>0.000015</td>\n",
       "      <td>0.000149</td>\n",
       "      <td>0.001742</td>\n",
       "      <td>0.000015</td>\n",
       "      <td>0.000469</td>\n",
       "      <td>0.000015</td>\n",
       "      <td>0.000015</td>\n",
       "      <td>0.000015</td>\n",
       "      <td>0.000015</td>\n",
       "    </tr>\n",
       "    <tr>\n",
       "      <th>Aal(e) (-filet)</th>\n",
       "      <td>0.000015</td>\n",
       "      <td>0.000015</td>\n",
       "      <td>0.000015</td>\n",
       "      <td>0.000015</td>\n",
       "      <td>0.000015</td>\n",
       "      <td>0.000015</td>\n",
       "      <td>0.000015</td>\n",
       "      <td>0.000015</td>\n",
       "      <td>0.000015</td>\n",
       "      <td>0.000015</td>\n",
       "      <td>...</td>\n",
       "      <td>0.000015</td>\n",
       "      <td>0.000015</td>\n",
       "      <td>0.000015</td>\n",
       "      <td>0.000015</td>\n",
       "      <td>0.000015</td>\n",
       "      <td>0.000015</td>\n",
       "      <td>0.000015</td>\n",
       "      <td>0.000015</td>\n",
       "      <td>0.000015</td>\n",
       "      <td>0.000015</td>\n",
       "    </tr>\n",
       "    <tr>\n",
       "      <th>Aal(e) (Meeraal)</th>\n",
       "      <td>0.000015</td>\n",
       "      <td>0.001109</td>\n",
       "      <td>0.000015</td>\n",
       "      <td>0.000015</td>\n",
       "      <td>0.000015</td>\n",
       "      <td>0.000015</td>\n",
       "      <td>0.000015</td>\n",
       "      <td>0.000015</td>\n",
       "      <td>0.000015</td>\n",
       "      <td>0.000015</td>\n",
       "      <td>...</td>\n",
       "      <td>0.000015</td>\n",
       "      <td>0.000015</td>\n",
       "      <td>0.000015</td>\n",
       "      <td>0.000871</td>\n",
       "      <td>0.000015</td>\n",
       "      <td>0.000015</td>\n",
       "      <td>0.000015</td>\n",
       "      <td>0.000015</td>\n",
       "      <td>0.000015</td>\n",
       "      <td>0.000015</td>\n",
       "    </tr>\n",
       "    <tr>\n",
       "      <th>Aal(e) (Räucheraal) oder anderer</th>\n",
       "      <td>0.000015</td>\n",
       "      <td>0.000015</td>\n",
       "      <td>0.000015</td>\n",
       "      <td>0.000015</td>\n",
       "      <td>0.000015</td>\n",
       "      <td>0.000015</td>\n",
       "      <td>0.000015</td>\n",
       "      <td>0.000015</td>\n",
       "      <td>0.000015</td>\n",
       "      <td>0.000015</td>\n",
       "      <td>...</td>\n",
       "      <td>0.000015</td>\n",
       "      <td>0.000015</td>\n",
       "      <td>0.000015</td>\n",
       "      <td>0.000015</td>\n",
       "      <td>0.000015</td>\n",
       "      <td>0.000015</td>\n",
       "      <td>0.000015</td>\n",
       "      <td>0.000015</td>\n",
       "      <td>0.000015</td>\n",
       "      <td>0.000015</td>\n",
       "    </tr>\n",
       "    <tr>\n",
       "      <th>...</th>\n",
       "      <td>...</td>\n",
       "      <td>...</td>\n",
       "      <td>...</td>\n",
       "      <td>...</td>\n",
       "      <td>...</td>\n",
       "      <td>...</td>\n",
       "      <td>...</td>\n",
       "      <td>...</td>\n",
       "      <td>...</td>\n",
       "      <td>...</td>\n",
       "      <td>...</td>\n",
       "      <td>...</td>\n",
       "      <td>...</td>\n",
       "      <td>...</td>\n",
       "      <td>...</td>\n",
       "      <td>...</td>\n",
       "      <td>...</td>\n",
       "      <td>...</td>\n",
       "      <td>...</td>\n",
       "      <td>...</td>\n",
       "      <td>...</td>\n",
       "    </tr>\n",
       "    <tr>\n",
       "      <th>Öl zum Sieden</th>\n",
       "      <td>0.000015</td>\n",
       "      <td>0.001109</td>\n",
       "      <td>0.000015</td>\n",
       "      <td>0.000015</td>\n",
       "      <td>0.000015</td>\n",
       "      <td>0.000015</td>\n",
       "      <td>0.000015</td>\n",
       "      <td>0.000015</td>\n",
       "      <td>0.000015</td>\n",
       "      <td>0.000015</td>\n",
       "      <td>...</td>\n",
       "      <td>0.000015</td>\n",
       "      <td>0.000015</td>\n",
       "      <td>0.000015</td>\n",
       "      <td>0.000015</td>\n",
       "      <td>0.000015</td>\n",
       "      <td>0.000234</td>\n",
       "      <td>0.000015</td>\n",
       "      <td>0.000015</td>\n",
       "      <td>0.000015</td>\n",
       "      <td>0.000015</td>\n",
       "    </tr>\n",
       "    <tr>\n",
       "      <th>Öl zum Unterrühren</th>\n",
       "      <td>0.000015</td>\n",
       "      <td>0.000015</td>\n",
       "      <td>0.000015</td>\n",
       "      <td>0.000015</td>\n",
       "      <td>0.000015</td>\n",
       "      <td>0.000015</td>\n",
       "      <td>0.000015</td>\n",
       "      <td>0.000015</td>\n",
       "      <td>0.000015</td>\n",
       "      <td>0.000015</td>\n",
       "      <td>...</td>\n",
       "      <td>0.000015</td>\n",
       "      <td>0.000015</td>\n",
       "      <td>0.000015</td>\n",
       "      <td>0.000015</td>\n",
       "      <td>0.000015</td>\n",
       "      <td>0.000015</td>\n",
       "      <td>0.000015</td>\n",
       "      <td>0.000015</td>\n",
       "      <td>0.000015</td>\n",
       "      <td>0.000015</td>\n",
       "    </tr>\n",
       "    <tr>\n",
       "      <th>Öl zum Würzen:  *</th>\n",
       "      <td>0.000015</td>\n",
       "      <td>0.000015</td>\n",
       "      <td>0.000015</td>\n",
       "      <td>0.000015</td>\n",
       "      <td>0.000015</td>\n",
       "      <td>0.000015</td>\n",
       "      <td>0.000015</td>\n",
       "      <td>0.000015</td>\n",
       "      <td>0.000015</td>\n",
       "      <td>0.000015</td>\n",
       "      <td>...</td>\n",
       "      <td>0.000015</td>\n",
       "      <td>0.000015</td>\n",
       "      <td>0.000015</td>\n",
       "      <td>0.000015</td>\n",
       "      <td>0.000015</td>\n",
       "      <td>0.000015</td>\n",
       "      <td>0.000015</td>\n",
       "      <td>0.000015</td>\n",
       "      <td>0.000015</td>\n",
       "      <td>0.000015</td>\n",
       "    </tr>\n",
       "    <tr>\n",
       "      <th>Ölsardinen</th>\n",
       "      <td>0.000015</td>\n",
       "      <td>0.000015</td>\n",
       "      <td>0.000015</td>\n",
       "      <td>0.000015</td>\n",
       "      <td>0.000015</td>\n",
       "      <td>0.000015</td>\n",
       "      <td>0.000015</td>\n",
       "      <td>0.000015</td>\n",
       "      <td>0.000015</td>\n",
       "      <td>0.000015</td>\n",
       "      <td>...</td>\n",
       "      <td>0.000015</td>\n",
       "      <td>0.000015</td>\n",
       "      <td>0.000149</td>\n",
       "      <td>0.000015</td>\n",
       "      <td>0.000015</td>\n",
       "      <td>0.000015</td>\n",
       "      <td>0.000015</td>\n",
       "      <td>0.000015</td>\n",
       "      <td>0.000015</td>\n",
       "      <td>0.000015</td>\n",
       "    </tr>\n",
       "    <tr>\n",
       "      <th>Überraschungsei(er)</th>\n",
       "      <td>0.000015</td>\n",
       "      <td>0.000015</td>\n",
       "      <td>0.000015</td>\n",
       "      <td>0.000015</td>\n",
       "      <td>0.000015</td>\n",
       "      <td>0.000015</td>\n",
       "      <td>0.000015</td>\n",
       "      <td>0.000069</td>\n",
       "      <td>0.000015</td>\n",
       "      <td>0.000015</td>\n",
       "      <td>...</td>\n",
       "      <td>0.000015</td>\n",
       "      <td>0.000015</td>\n",
       "      <td>0.000015</td>\n",
       "      <td>0.000015</td>\n",
       "      <td>0.000015</td>\n",
       "      <td>0.000015</td>\n",
       "      <td>0.000015</td>\n",
       "      <td>0.000015</td>\n",
       "      <td>0.000015</td>\n",
       "      <td>0.000015</td>\n",
       "    </tr>\n",
       "  </tbody>\n",
       "</table>\n",
       "<p>35957 rows × 182 columns</p>\n",
       "</div>"
      ],
      "text/plain": [
       "kat                                 Afrika   Amerika     Asien   Auflauf  \\\n",
       "sestavina                                                                  \n",
       "8 Kräuter                         0.000015  0.000015  0.000015  0.000466   \n",
       "Aal(e)                            0.000015  0.000015  0.000229  0.000015   \n",
       "Aal(e) (-filet)                   0.000015  0.000015  0.000015  0.000015   \n",
       "Aal(e) (Meeraal)                  0.000015  0.001109  0.000015  0.000015   \n",
       "Aal(e) (Räucheraal) oder anderer  0.000015  0.000015  0.000015  0.000015   \n",
       "...                                    ...       ...       ...       ...   \n",
       "Öl zum Sieden                     0.000015  0.001109  0.000015  0.000015   \n",
       "Öl zum Unterrühren                0.000015  0.000015  0.000015  0.000015   \n",
       "Öl zum Würzen:  *                 0.000015  0.000015  0.000015  0.000015   \n",
       "Ölsardinen                        0.000015  0.000015  0.000015  0.000015   \n",
       "Überraschungsei(er)               0.000015  0.000015  0.000015  0.000015   \n",
       "\n",
       "kat                               Aufstrich  Australien  Babynahrung  \\\n",
       "sestavina                                                              \n",
       "8 Kräuter                          0.000015    0.000015     0.000015   \n",
       "Aal(e)                             0.000015    0.000015     0.000015   \n",
       "Aal(e) (-filet)                    0.000015    0.000015     0.000015   \n",
       "Aal(e) (Meeraal)                   0.000015    0.000015     0.000015   \n",
       "Aal(e) (Räucheraal) oder anderer   0.000015    0.000015     0.000015   \n",
       "...                                     ...         ...          ...   \n",
       "Öl zum Sieden                      0.000015    0.000015     0.000015   \n",
       "Öl zum Unterrühren                 0.000015    0.000015     0.000015   \n",
       "Öl zum Würzen:  *                  0.000015    0.000015     0.000015   \n",
       "Ölsardinen                         0.000015    0.000015     0.000015   \n",
       "Überraschungsei(er)                0.000015    0.000015     0.000015   \n",
       "\n",
       "kat                                 Backen  Backen oder Süßspeise  \\\n",
       "sestavina                                                           \n",
       "8 Kräuter                         0.000015               0.000015   \n",
       "Aal(e)                            0.000015               0.000015   \n",
       "Aal(e) (-filet)                   0.000015               0.000015   \n",
       "Aal(e) (Meeraal)                  0.000015               0.000015   \n",
       "Aal(e) (Räucheraal) oder anderer  0.000015               0.000015   \n",
       "...                                    ...                    ...   \n",
       "Öl zum Sieden                     0.000015               0.000015   \n",
       "Öl zum Unterrühren                0.000015               0.000015   \n",
       "Öl zum Würzen:  *                 0.000015               0.000015   \n",
       "Ölsardinen                        0.000015               0.000015   \n",
       "Überraschungsei(er)               0.000069               0.000015   \n",
       "\n",
       "kat                               Basisrezepte  ...  marinieren       neu  \\\n",
       "sestavina                                       ...                         \n",
       "8 Kräuter                             0.000015  ...    0.000887  0.000015   \n",
       "Aal(e)                                0.000015  ...    0.000015  0.000015   \n",
       "Aal(e) (-filet)                       0.000015  ...    0.000015  0.000015   \n",
       "Aal(e) (Meeraal)                      0.000015  ...    0.000015  0.000015   \n",
       "Aal(e) (Räucheraal) oder anderer      0.000015  ...    0.000015  0.000015   \n",
       "...                                        ...  ...         ...       ...   \n",
       "Öl zum Sieden                         0.000015  ...    0.000015  0.000015   \n",
       "Öl zum Unterrühren                    0.000015  ...    0.000015  0.000015   \n",
       "Öl zum Würzen:  *                     0.000015  ...    0.000015  0.000015   \n",
       "Ölsardinen                            0.000015  ...    0.000015  0.000015   \n",
       "Überraschungsei(er)                   0.000015  ...    0.000015  0.000015   \n",
       "\n",
       "kat                               raffiniert oder preiswert   spezial  \\\n",
       "sestavina                                                               \n",
       "8 Kräuter                                          0.000297  0.000015   \n",
       "Aal(e)                                             0.000149  0.001742   \n",
       "Aal(e) (-filet)                                    0.000015  0.000015   \n",
       "Aal(e) (Meeraal)                                   0.000015  0.000871   \n",
       "Aal(e) (Räucheraal) oder anderer                   0.000015  0.000015   \n",
       "...                                                     ...       ...   \n",
       "Öl zum Sieden                                      0.000015  0.000015   \n",
       "Öl zum Unterrühren                                 0.000015  0.000015   \n",
       "Öl zum Würzen:  *                                  0.000015  0.000015   \n",
       "Ölsardinen                                         0.000149  0.000015   \n",
       "Überraschungsei(er)                                0.000015  0.000015   \n",
       "\n",
       "kat                                    tee      warm   Ägypten  Österreich  \\\n",
       "sestavina                                                                    \n",
       "8 Kräuter                         0.000015  0.000015  0.000015    0.000015   \n",
       "Aal(e)                            0.000015  0.000469  0.000015    0.000015   \n",
       "Aal(e) (-filet)                   0.000015  0.000015  0.000015    0.000015   \n",
       "Aal(e) (Meeraal)                  0.000015  0.000015  0.000015    0.000015   \n",
       "Aal(e) (Räucheraal) oder anderer  0.000015  0.000015  0.000015    0.000015   \n",
       "...                                    ...       ...       ...         ...   \n",
       "Öl zum Sieden                     0.000015  0.000234  0.000015    0.000015   \n",
       "Öl zum Unterrühren                0.000015  0.000015  0.000015    0.000015   \n",
       "Öl zum Würzen:  *                 0.000015  0.000015  0.000015    0.000015   \n",
       "Ölsardinen                        0.000015  0.000015  0.000015    0.000015   \n",
       "Überraschungsei(er)               0.000015  0.000015  0.000015    0.000015   \n",
       "\n",
       "kat                               Überbacken        öl  \n",
       "sestavina                                               \n",
       "8 Kräuter                           0.000622  0.000015  \n",
       "Aal(e)                              0.000015  0.000015  \n",
       "Aal(e) (-filet)                     0.000015  0.000015  \n",
       "Aal(e) (Meeraal)                    0.000015  0.000015  \n",
       "Aal(e) (Räucheraal) oder anderer    0.000015  0.000015  \n",
       "...                                      ...       ...  \n",
       "Öl zum Sieden                       0.000015  0.000015  \n",
       "Öl zum Unterrühren                  0.000015  0.000015  \n",
       "Öl zum Würzen:  *                   0.000015  0.000015  \n",
       "Ölsardinen                          0.000015  0.000015  \n",
       "Überraschungsei(er)                 0.000015  0.000015  \n",
       "\n",
       "[35957 rows x 182 columns]"
      ]
     },
     "execution_count": 161,
     "metadata": {},
     "output_type": "execute_result"
    }
   ],
   "source": [
    "sestavine_kategorij = pd.merge(splosne_sestavine, kategorije_z_imeni)\n",
    "stolpec_verjetnosti_sestavin_pri_kategorijah = sestavine_kategorij.groupby(['kat', 'sestavina']).size() / pojavitve_kategorij\n",
    "verjetnosti_sestavin_pri_kategorijah = stolpec_verjetnosti_sestavin_pri_kategorijah.unstack().transpose().fillna(1 / len(recepti))\n",
    "verjetnosti_sestavin_pri_kategorijah"
   ]
  },
  {
   "cell_type": "markdown",
   "metadata": {},
   "source": [
    "Definiramo funkcijo, ki sprejme seznam sestavin in vrne prvih pet kategorij, v katere najverjetneje sodi recept z danimi sestavinami."
   ]
  },
  {
   "cell_type": "code",
   "execution_count": 162,
   "metadata": {},
   "outputs": [],
   "source": [
    "def kategorija_iz_sestavin(sestavine):\n",
    "    \"\"\"Funkcija sprejme seznam sestavin (nizov) in vrne imena prvih petih kategorij, \n",
    "    v katere najverjetneje sodi recept s sestavinami s tega seznama.\"\"\"\n",
    "    sestavine_brez_konca = [odstrani_del_za_vejico(sestavina) for sestavina in sestavine]\n",
    "    r = verjetnosti_sestavin_pri_kategorijah.reset_index()\n",
    "    verjetnosti = r[r.sestavina.isin(sestavine_brez_konca)].product(numeric_only=True) * verjetnosti_kategorij\n",
    "    return verjetnosti.sort_values(ascending=False).head(5)"
   ]
  },
  {
   "attachments": {},
   "cell_type": "markdown",
   "metadata": {},
   "source": [
    "Delovanje klasifikatorja preverimo na primeru. Oglejmo si recept za pripravo marmornega kolača. Ker je teh več, izberemo prvega."
   ]
  },
  {
   "cell_type": "code",
   "execution_count": 170,
   "metadata": {},
   "outputs": [],
   "source": [
    "zdruzene_splosne_sestavine = splosne_sestavine.groupby('recept')['sestavina'].apply(list).reset_index(name='sestavine')\n",
    "ssk = pd.merge(recepti[recepti['title'] == 'Marmorkuchen'], zdruzene_splosne_sestavine, left_on='id', right_on='recept')\n",
    "ssk = pd.merge(ssk[['recept', 'title', 'sestavine']], zdruzene_kategorije, on='recept')\n",
    "marmor_sestavine = ssk.loc[0]['sestavine']\n",
    "marmor_kategorije = ssk.loc[0]['kategorije']\n",
    "marmor_kategorije_bayes = kategorija_iz_sestavin(marmor_sestavine)"
   ]
  },
  {
   "attachments": {},
   "cell_type": "markdown",
   "metadata": {},
   "source": [
    "Ta recept sodi v naslednje kategorije:"
   ]
  },
  {
   "cell_type": "code",
   "execution_count": 171,
   "metadata": {},
   "outputs": [
    {
     "data": {
      "text/plain": [
       "['Backen', 'Kuchen', 'Diabetiker']"
      ]
     },
     "execution_count": 171,
     "metadata": {},
     "output_type": "execute_result"
    }
   ],
   "source": [
    "marmor_kategorije"
   ]
  },
  {
   "attachments": {},
   "cell_type": "markdown",
   "metadata": {},
   "source": [
    "Klasifikator napove kategorije:"
   ]
  },
  {
   "cell_type": "code",
   "execution_count": 172,
   "metadata": {},
   "outputs": [
    {
     "data": {
      "text/plain": [
       "kat\n",
       "Kuchen       1.074621e-06\n",
       "Torte        1.398524e-07\n",
       "Backen       9.044587e-08\n",
       "Kekse        9.877609e-09\n",
       "Süßspeise    2.402002e-09\n",
       "dtype: float64"
      ]
     },
     "execution_count": 172,
     "metadata": {},
     "output_type": "execute_result"
    }
   ],
   "source": [
    "marmor_kategorije_bayes"
   ]
  },
  {
   "attachments": {},
   "cell_type": "markdown",
   "metadata": {},
   "source": [
    "Dve izmed kategorij v podatkih se pojavita med napovedanimi."
   ]
  },
  {
   "attachments": {},
   "cell_type": "markdown",
   "metadata": {},
   "source": [
    "Klasifikator bi morda deloval bolje, če bi sestavinam poleg dela za vejico odstranili tudi del za presledkom, saj so sestavine v receptih zapisane precej nekonsistentno. Nekatere sestavine tako dodatne podrobnosti vsebujejo za vejico, pri nekaterih pa vejica teh dveh delov ne loči in so podrobnosti zapisane za presledkom. Vendar bi tako morda \"uničili\" nekatere druge podatke o sestavinah, ki vejice namenoma ne vsebujejo."
   ]
  },
  {
   "attachments": {},
   "cell_type": "markdown",
   "metadata": {},
   "source": [
    "## Čas objave"
   ]
  },
  {
   "attachments": {},
   "cell_type": "markdown",
   "metadata": {},
   "source": [
    "Za konec si poglejmo še, kako se s časom spreminja število objavljenih receptov letno."
   ]
  },
  {
   "cell_type": "code",
   "execution_count": 165,
   "metadata": {},
   "outputs": [
    {
     "data": {
      "text/plain": [
       "<AxesSubplot: xlabel='date'>"
      ]
     },
     "execution_count": 165,
     "metadata": {},
     "output_type": "execute_result"
    },
    {
     "data": {
      "image/png": "[encoded data removed]",
      "text/plain": [
       "<Figure size 640x480 with 1 Axes>"
      ]
     },
     "metadata": {},
     "output_type": "display_data"
    }
   ],
   "source": [
    "def leto(datum):\n",
    "    datum = datetime.date.fromisoformat(datum).year\n",
    "    return datum\n",
    "\n",
    "recepti_letno = recepti.copy()\n",
    "recepti_letno['date'] = recepti_letno['date'].apply(leto)\n",
    "recepti_po_letih.groupby('date').size().plot()"
   ]
  },
  {
   "attachments": {},
   "cell_type": "markdown",
   "metadata": {},
   "source": [
    "Z grafa odčitamo, da je bilo največ receptov objavljenih leta 2008, nato pa je število objavljenih receptov počasi padalo. \n",
    "\n",
    "Razlog za to bi lahko bil ta, da je baza receptov že zelo velika in je zato težje najti nov (še ne objavljen) recept, ali pa je priljubljenost te spletne strani z recepti v zadnjem času padala (ljudje so se je naveličali oz. našli drug vir receptov). Možna razlaga je tudi ta, da je novih kuharjev vse manj, saj se ljudje raje ukvarjajo z drugimi rečmi."
   ]
  },
  {
   "cell_type": "markdown",
   "metadata": {},
   "source": [
    "# Komentar"
   ]
  },
  {
   "attachments": {},
   "cell_type": "markdown",
   "metadata": {},
   "source": [
    "Kljub številnim primerjavam je med podatki opaziti bolj šibko odvisnost, zato ne moremo postaviti splošnih zaključkov."
   ]
  },
  {
   "attachments": {},
   "cell_type": "markdown",
   "metadata": {},
   "source": [
    "Čeprav je zajetih podatkov veliko, ti niso najboljši. Spletna stran namreč dopušča le ogled prvih 25 strani posamezne kategorije (torej prvih 1000 receptov). Recepti na spletni strani so (domnevno) razvrščeni po številu ogledov recepta, torej so na prvi strani bolj obiskani recepti, na zadnji pa manj. Povprečje posamezne kategorije tako ni povprečje vseh receptov znotraj kategorije, temveč povprečje prvih 1000 receptov posamezne kategorije glede na število ogledov.\n",
    "\n",
    "Bolj obiskani recepti so navadno tudi bolje in večkrat ocenjeni ter komentirani. Nekaterim kategorijam pripada manj kot 1000 receptov, zato je povprečje ocen njihovih receptov slabše (tu gre za dejansko povprečje vseh receptov, ki pripadajo posamezni kategoriji, ne le za povprečje prvih 1000 receptov - zajeti so tudi slabše ocenjeni recepti).\n",
    "\n",
    "Opazila sem tudi, da imajo nekateri recepti na spletni strani isto sestavino zapisano dvakrat, zato se ta pri teh receptih tudi v zajetih podatkih pojavi dvakrat. Včasih je to smiselno (npr. pri pripravi obroka lahko isto sestavino uporabimo za pripravo omake in priloge), včasih pa ne.\n",
    "\n",
    "Rezultati te obdelave podatkov zato niso zanesljivi. Pri vseh ugotovljenih odvisnostih bi lahko šlo le za odvisnost od kategorije in števila receptov v njej."
   ]
  }
 ],
 "metadata": {
  "kernelspec": {
   "display_name": "Python 3.10.2 64-bit",
   "language": "python",
   "name": "python3"
  },
  "language_info": {
   "codemirror_mode": {
    "name": "ipython",
    "version": 3
   },
   "file_extension": ".py",
   "mimetype": "text/x-python",
   "name": "python",
   "nbconvert_exporter": "python",
   "pygments_lexer": "ipython3",
   "version": "3.10.2 (tags/v3.10.2:a58ebcc, Jan 17 2022, 14:12:15) [MSC v.1929 64 bit (AMD64)]"
  },
  "orig_nbformat": 4,
  "vscode": {
   "interpreter": {
    "hash": "a9400fe46ed6c47deff326378916ac710a4946dbdea467eb4ffb0356726ab616"
   }
  }
 },
 "nbformat": 4,
 "nbformat_minor": 2
}
